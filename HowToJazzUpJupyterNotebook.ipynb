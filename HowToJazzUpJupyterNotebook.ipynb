{
 "cells": [
  {
   "cell_type": "code",
   "execution_count": null,
   "metadata": {
    "collapsed": true,
    "slideshow": {
     "slide_type": "skip"
    }
   },
   "outputs": [],
   "source": []
  },
  {
   "cell_type": "code",
   "execution_count": null,
   "metadata": {
    "collapsed": true,
    "slideshow": {
     "slide_type": "skip"
    }
   },
   "outputs": [],
   "source": []
  },
  {
   "cell_type": "markdown",
   "metadata": {
    "slideshow": {
     "slide_type": "skip"
    }
   },
   "source": [
    "<center><table>\n",
    "    <tr>\n",
    "        <td style=\"border: 1px solid white;\">\n",
    "            <img width=500em src=\"http://www.wired.com/wp-content/uploads/2015/08/Itkoff_richard_simmons_09.gif\" />\n",
    "        </td>\n",
    "        <td style=\"border: 1px solid white;\">\n",
    "            <div style=\"display:inline-block;\" width=500em>\n",
    "\n",
    "                <p style=\"color:gold; font-family:Arial; font-size:2em;\">\n",
    "                    How to\n",
    "                </p>\n",
    "\n",
    "                <p style=\"color:#ff6600; font-family:Cursive; font-size:3em;\">\n",
    "                    Jazz Up\n",
    "                </p>\n",
    "\n",
    "                <p style=\"color:#ADDFAD; font-family:Arial; font-size:2em;\">\n",
    "                    Jupyter Notebook\n",
    "                </p>\n",
    "\n",
    "            </div>\n",
    "        </td>\n",
    "    </tr>\n",
    "</table></center>"
   ]
  },
  {
   "cell_type": "markdown",
   "metadata": {
    "slideshow": {
     "slide_type": "slide"
    }
   },
   "source": [
    "<table style=\"border:1px solid white\">\n",
    "    <tr>\n",
    "\n",
    "        <td rowspan=5 style=\"border:1px solid white\">\n",
    "            <img style=\"display:inline;\" width=500px src=\"http://www.wired.com/wp-content/uploads/2015/08/Itkoff_richard_simmons_09.gif\" />\n",
    "        </td>\n",
    "        <td style=\"color:white;border:1px solid white\">.\n",
    "        </td>\n",
    "    </tr>\n",
    "    <tr>\n",
    "        <td style=\"border:1px solid white\">\n",
    "            <p style=\"color:gold; font-family:Arial; font-size:2em;\">\n",
    "                How to\n",
    "            </p>\n",
    "        </td>\n",
    "    </tr>\n",
    "    <tr>\n",
    "        <td style=\"border:1px solid white\">\n",
    "            <p style=\"color:#ff6600; font-family:Cursive; font-size:3em;\">\n",
    "                Jazz Up\n",
    "            </p>\n",
    "        </td>\n",
    "    </tr>\n",
    "    <tr>\n",
    "        <td style=\"border:1px solid white\">\n",
    "            <p style=\"color:#ADDFAD; font-family:Arial; font-size:2em;\">\n",
    "                Jupyter Notebook\n",
    "            </p>\n",
    "        </td>\n",
    "    </tr>\n",
    "    <tr>\n",
    "        <td style=\"color:white;border:1px solid white\">.\n",
    "        </td>\n",
    "    </tr>\n",
    "    <tr>\n",
    "        <td style=\"color:white;border:1px solid white\">.\n",
    "        </td>\n",
    "    </tr>\n",
    "    <tr>\n",
    "        <td style=\"color:white;border:1px solid white\">.\n",
    "        </td>\n",
    "    </tr>\n",
    "    <tr>\n",
    "        <td style=\"color:white;border:1px solid white\">.\n",
    "        </td>\n",
    "    </tr>\n",
    "</table>"
   ]
  },
  {
   "cell_type": "markdown",
   "metadata": {
    "slideshow": {
     "slide_type": "slide"
    }
   },
   "source": [
    " "
   ]
  },
  {
   "cell_type": "markdown",
   "metadata": {
    "slideshow": {
     "slide_type": "fragment"
    }
   },
   "source": [
    "<p style=\"font-family:Arial-black; color:red; text-align:center; font-weight:bold; font-size: 3em\">WARNING</p>"
   ]
  },
  {
   "cell_type": "markdown",
   "metadata": {
    "slideshow": {
     "slide_type": "fragment"
    }
   },
   "source": [
    "<p style=\"text-align:center; font-family:Arial\">\n",
    "The following are mostly awful html hacks.\n",
    "</p>"
   ]
  },
  {
   "cell_type": "markdown",
   "metadata": {
    "slideshow": {
     "slide_type": "slide"
    }
   },
   "source": [
    "<img style=\"float: left\" width=600px src=\"http://www.jamiewyman.com/wp-content/uploads/2013/08/slide_293609_2371156_free.gif\" />\n",
    "<center><img position=static width=400px src=\"http://www.jamiewyman.com/wp-content/uploads/2013/08/slide_293609_2371156_free.gif\" /></center>\n",
    "<img style=\"float:right;\" width=200px src=\"http://www.jamiewyman.com/wp-content/uploads/2013/08/slide_293609_2371156_free.gif\" />"
   ]
  },
  {
   "cell_type": "markdown",
   "metadata": {
    "slideshow": {
     "slide_type": "skip"
    }
   },
   "source": [
    "<img src=\"http://essaysnark.com/wp-content/uploads/2013/04/zoo-babies-doll.gif\" />\n",
    "<img src=\"http://www.netanimations.net/2a4dd13fbd6ed5e58e17b80bc006607615bfe642_m.gif\" />"
   ]
  },
  {
   "cell_type": "markdown",
   "metadata": {
    "slideshow": {
     "slide_type": "skip"
    }
   },
   "source": [
    "<img src=\"http://i.kinja-img.com/gawker-media/image/upload/s--za3ND_16--/c_fit,f_auto,fl_progressive,q_80,w_320/196603q25oxx5gif.gif\" />\n",
    "\n",
    "<img src=\"http://www.lolzhumor.com/wp-content/uploads/2013/09/Funny_Pictures_nailed-it_15807.jpeg\" />"
   ]
  }
 ],
 "metadata": {
  "celltoolbar": "Slideshow",
  "kernelspec": {
   "display_name": "Python 2",
   "language": "python",
   "name": "python2"
  },
  "language_info": {
   "codemirror_mode": {
    "name": "ipython",
    "version": 2
   },
   "file_extension": ".py",
   "mimetype": "text/x-python",
   "name": "python",
   "nbconvert_exporter": "python",
   "pygments_lexer": "ipython2",
   "version": "2.7.10"
  }
 },
 "nbformat": 4,
 "nbformat_minor": 0
}
